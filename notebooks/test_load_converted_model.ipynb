{
 "cells": [
  {
   "cell_type": "code",
   "execution_count": 1,
   "metadata": {},
   "outputs": [
    {
     "name": "stderr",
     "output_type": "stream",
     "text": [
      "Using TensorFlow backend.\n"
     ]
    }
   ],
   "source": [
    "import keras\n",
    "import os"
   ]
  },
  {
   "cell_type": "code",
   "execution_count": 2,
   "metadata": {},
   "outputs": [
    {
     "name": "stdout",
     "output_type": "stream",
     "text": [
      "/Users/justin/Documents/dev/l3embedding\n"
     ]
    }
   ],
   "source": [
    "cd ~/dev/l3embedding/"
   ]
  },
  {
   "cell_type": "code",
   "execution_count": 3,
   "metadata": {},
   "outputs": [],
   "source": [
    "from l3embedding.model import load_embedding, load_model, MODELS"
   ]
  },
  {
   "cell_type": "code",
   "execution_count": 4,
   "metadata": {},
   "outputs": [
    {
     "data": {
      "text/plain": [
       "['cnn_L3_melspec2',\n",
       " 'tiny_L3',\n",
       " 'cnn_L3_kapredbinputbn',\n",
       " 'cnn_L3_melspec1',\n",
       " 'cnn_L3_orig']"
      ]
     },
     "execution_count": 4,
     "metadata": {},
     "output_type": "execute_result"
    }
   ],
   "source": [
    "MODELS.keys()"
   ]
  },
  {
   "cell_type": "code",
   "execution_count": 5,
   "metadata": {},
   "outputs": [],
   "source": [
    "weight_file = '/Users/justin/Downloads/model_checkpoint.150.h5'\n",
    "model_type = 'cnn_L3_melspec1'\n",
    "emb_type = 'audio'"
   ]
  },
  {
   "cell_type": "code",
   "execution_count": 7,
   "metadata": {
    "collapsed": true
   },
   "outputs": [],
   "source": [
    "# LOAD FULL MODEL\n",
    "model = load_model(weight_file, model_type, num_gpus=0, target_num_gpus=None, return_io=False)"
   ]
  },
  {
   "cell_type": "code",
   "execution_count": 8,
   "metadata": {},
   "outputs": [
    {
     "name": "stdout",
     "output_type": "stream",
     "text": [
      "__________________________________________________________________________________________________\n",
      "Layer (type)                    Output Shape         Param #     Connected to                     \n",
      "==================================================================================================\n",
      "input_1 (InputLayer)            (None, 224, 224, 3)  0                                            \n",
      "__________________________________________________________________________________________________\n",
      "input_2 (InputLayer)            (None, 1, 48000)     0                                            \n",
      "__________________________________________________________________________________________________\n",
      "vision_model (Model)            (None, 512)          4693056     input_1[0][0]                    \n",
      "__________________________________________________________________________________________________\n",
      "audio_model (Model)             (None, 512)          9021504     input_2[0][0]                    \n",
      "__________________________________________________________________________________________________\n",
      "concatenate_1 (Concatenate)     (None, 1024)         0           vision_model[1][0]               \n",
      "                                                                 audio_model[1][0]                \n",
      "__________________________________________________________________________________________________\n",
      "dense_1 (Dense)                 (None, 128)          131200      concatenate_1[0][0]              \n",
      "__________________________________________________________________________________________________\n",
      "dense_2 (Dense)                 (None, 2)            258         dense_1[0][0]                    \n",
      "==================================================================================================\n",
      "Total params: 13,846,018\n",
      "Trainable params: 9,508,738\n",
      "Non-trainable params: 4,337,280\n",
      "__________________________________________________________________________________________________\n"
     ]
    }
   ],
   "source": [
    "model.summary()"
   ]
  },
  {
   "cell_type": "code",
   "execution_count": 6,
   "metadata": {},
   "outputs": [],
   "source": [
    "# Just load the embedding\n",
    "embedding = load_embedding(weight_file, model_type, emb_type, num_gpus=0, target_num_gpus=None, return_io=False)"
   ]
  },
  {
   "cell_type": "code",
   "execution_count": 7,
   "metadata": {},
   "outputs": [
    {
     "name": "stdout",
     "output_type": "stream",
     "text": [
      "_________________________________________________________________\n",
      "Layer (type)                 Output Shape              Param #   \n",
      "=================================================================\n",
      "input_2 (InputLayer)         (None, 1, 48000)          0         \n",
      "_________________________________________________________________\n",
      "melspectrogram_1 (Melspectro (None, 128, 199, 1)       4329600   \n",
      "_________________________________________________________________\n",
      "conv2d_8 (Conv2D)            (None, 128, 199, 64)      640       \n",
      "_________________________________________________________________\n",
      "batch_normalization_9 (Batch (None, 128, 199, 64)      256       \n",
      "_________________________________________________________________\n",
      "activation_9 (Activation)    (None, 128, 199, 64)      0         \n",
      "_________________________________________________________________\n",
      "conv2d_9 (Conv2D)            (None, 128, 199, 64)      36928     \n",
      "_________________________________________________________________\n",
      "batch_normalization_10 (Batc (None, 128, 199, 64)      256       \n",
      "_________________________________________________________________\n",
      "activation_10 (Activation)   (None, 128, 199, 64)      0         \n",
      "_________________________________________________________________\n",
      "max_pooling2d_5 (MaxPooling2 (None, 64, 99, 64)        0         \n",
      "_________________________________________________________________\n",
      "conv2d_10 (Conv2D)           (None, 64, 99, 128)       73856     \n",
      "_________________________________________________________________\n",
      "batch_normalization_11 (Batc (None, 64, 99, 128)       512       \n",
      "_________________________________________________________________\n",
      "activation_11 (Activation)   (None, 64, 99, 128)       0         \n",
      "_________________________________________________________________\n",
      "conv2d_11 (Conv2D)           (None, 64, 99, 128)       147584    \n",
      "_________________________________________________________________\n",
      "batch_normalization_12 (Batc (None, 64, 99, 128)       512       \n",
      "_________________________________________________________________\n",
      "activation_12 (Activation)   (None, 64, 99, 128)       0         \n",
      "_________________________________________________________________\n",
      "max_pooling2d_6 (MaxPooling2 (None, 32, 49, 128)       0         \n",
      "_________________________________________________________________\n",
      "conv2d_12 (Conv2D)           (None, 32, 49, 256)       295168    \n",
      "_________________________________________________________________\n",
      "batch_normalization_13 (Batc (None, 32, 49, 256)       1024      \n",
      "_________________________________________________________________\n",
      "activation_13 (Activation)   (None, 32, 49, 256)       0         \n",
      "_________________________________________________________________\n",
      "conv2d_13 (Conv2D)           (None, 32, 49, 256)       590080    \n",
      "_________________________________________________________________\n",
      "batch_normalization_14 (Batc (None, 32, 49, 256)       1024      \n",
      "_________________________________________________________________\n",
      "activation_14 (Activation)   (None, 32, 49, 256)       0         \n",
      "_________________________________________________________________\n",
      "max_pooling2d_7 (MaxPooling2 (None, 16, 24, 256)       0         \n",
      "_________________________________________________________________\n",
      "conv2d_14 (Conv2D)           (None, 16, 24, 512)       1180160   \n",
      "_________________________________________________________________\n",
      "batch_normalization_15 (Batc (None, 16, 24, 512)       2048      \n",
      "_________________________________________________________________\n",
      "activation_15 (Activation)   (None, 16, 24, 512)       0         \n",
      "_________________________________________________________________\n",
      "audio_embedding_layer (Conv2 (None, 16, 24, 512)       2359808   \n",
      "_________________________________________________________________\n",
      "max_pooling2d_9 (MaxPooling2 (None, 4, 3, 512)         0         \n",
      "_________________________________________________________________\n",
      "flatten_3 (Flatten)          (None, 6144)              0         \n",
      "=================================================================\n",
      "Total params: 9,019,456\n",
      "Trainable params: 4,687,040\n",
      "Non-trainable params: 4,332,416\n",
      "_________________________________________________________________\n"
     ]
    }
   ],
   "source": [
    "embedding.summary()"
   ]
  },
  {
   "cell_type": "code",
   "execution_count": null,
   "metadata": {
    "collapsed": true
   },
   "outputs": [],
   "source": []
  }
 ],
 "metadata": {
  "kernelspec": {
   "display_name": "Python (envsoundcnn)",
   "language": "python",
   "name": "envsoundcnn"
  },
  "language_info": {
   "codemirror_mode": {
    "name": "ipython",
    "version": 2
   },
   "file_extension": ".py",
   "mimetype": "text/x-python",
   "name": "python",
   "nbconvert_exporter": "python",
   "pygments_lexer": "ipython2",
   "version": "2.7.13"
  }
 },
 "nbformat": 4,
 "nbformat_minor": 2
}
